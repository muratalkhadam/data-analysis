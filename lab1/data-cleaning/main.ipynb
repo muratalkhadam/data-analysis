{
 "cells": [
  {
   "cell_type": "code",
   "execution_count": 212,
   "metadata": {
    "collapsed": true
   },
   "outputs": [],
   "source": [
    "import pandas as pd\n",
    "\n",
    "initial_datasets = '../preprocessing/datasets/'\n",
    "clear_datasets= '../preprocessing/clear-datasets/'"
   ]
  },
  {
   "cell_type": "markdown",
   "source": [
    "# Cleaning drivers table"
   ],
   "metadata": {
    "collapsed": false
   }
  },
  {
   "cell_type": "code",
   "execution_count": 213,
   "outputs": [],
   "source": [
    "drivers_path = 'GrandPrix_drivers_details_1950_to_2022.csv'\n",
    "\n",
    "df = pd.read_csv(initial_datasets + drivers_path)\n",
    "df.replace(\"\\r\\n\", \"\\n\", regex=True, inplace=True)"
   ],
   "metadata": {
    "collapsed": false
   }
  },
  {
   "cell_type": "code",
   "execution_count": 214,
   "outputs": [],
   "source": [
    "index_to_drop = df.query(\"Pos == 'DQ'\").index\n",
    "df.drop(index_to_drop, inplace=True)"
   ],
   "metadata": {
    "collapsed": false
   }
  },
  {
   "cell_type": "code",
   "execution_count": 215,
   "outputs": [],
   "source": [
    "df['Driver'] = df['Driver'].apply(lambda x: x[:-4])"
   ],
   "metadata": {
    "collapsed": false
   }
  },
  {
   "cell_type": "code",
   "execution_count": 216,
   "outputs": [],
   "source": [
    "df.to_csv(clear_datasets + drivers_path, index=False)"
   ],
   "metadata": {
    "collapsed": false
   }
  },
  {
   "cell_type": "markdown",
   "source": [
    "# Cleaning laps table"
   ],
   "metadata": {
    "collapsed": false
   }
  },
  {
   "cell_type": "code",
   "execution_count": 217,
   "outputs": [],
   "source": [
    "laps_path = 'GrandPrix_fastest-laps_details_1950_to_2022.csv'\n",
    "\n",
    "df = pd.read_csv(initial_datasets + laps_path, encoding='cp1251')\n",
    "df.replace(\"\\r\\n\", \"\\n\", regex=True, inplace=True)"
   ],
   "metadata": {
    "collapsed": false
   }
  },
  {
   "cell_type": "code",
   "execution_count": 218,
   "outputs": [],
   "source": [
    "df.dropna(subset=['year'], inplace=True)"
   ],
   "metadata": {
    "collapsed": false
   }
  },
  {
   "cell_type": "code",
   "execution_count": 219,
   "outputs": [],
   "source": [
    "df['Driver'] = df['Driver'].apply(lambda x: x[:-4])"
   ],
   "metadata": {
    "collapsed": false
   }
  },
  {
   "cell_type": "code",
   "execution_count": 220,
   "outputs": [],
   "source": [
    "df.to_csv(clear_datasets + laps_path, index=False)"
   ],
   "metadata": {
    "collapsed": false
   }
  },
  {
   "cell_type": "markdown",
   "source": [
    "# Cleaning races table"
   ],
   "metadata": {
    "collapsed": false
   }
  },
  {
   "cell_type": "code",
   "execution_count": 221,
   "outputs": [],
   "source": [
    "races_path = 'GrandPrix_races_details_1950_to_2022.csv'\n",
    "\n",
    "df = pd.read_csv(initial_datasets + races_path, encoding='cp1251')\n",
    "df.replace(\"\\r\\n\", \"\\n\", regex=True, inplace=True)"
   ],
   "metadata": {
    "collapsed": false
   }
  },
  {
   "cell_type": "code",
   "execution_count": 222,
   "outputs": [],
   "source": [
    "df.dropna(subset=['Laps'], inplace=True)"
   ],
   "metadata": {
    "collapsed": false
   }
  },
  {
   "cell_type": "code",
   "execution_count": 223,
   "outputs": [],
   "source": [
    "df['Date'] = pd.to_datetime(df['Date'], format='%d %b %Y')\n",
    "df['Date'] = df['Date'].dt.strftime('%Y-%m-%d')"
   ],
   "metadata": {
    "collapsed": false
   }
  },
  {
   "cell_type": "code",
   "execution_count": 224,
   "outputs": [],
   "source": [
    "df['Winner'] = df['Winner'].apply(lambda x: x[:-4])"
   ],
   "metadata": {
    "collapsed": false
   }
  },
  {
   "cell_type": "code",
   "execution_count": 225,
   "outputs": [],
   "source": [
    "df.to_csv(clear_datasets + races_path, index=False)"
   ],
   "metadata": {
    "collapsed": false
   }
  }
 ],
 "metadata": {
  "kernelspec": {
   "display_name": "Python 3",
   "language": "python",
   "name": "python3"
  },
  "language_info": {
   "codemirror_mode": {
    "name": "ipython",
    "version": 2
   },
   "file_extension": ".py",
   "mimetype": "text/x-python",
   "name": "python",
   "nbconvert_exporter": "python",
   "pygments_lexer": "ipython2",
   "version": "2.7.6"
  }
 },
 "nbformat": 4,
 "nbformat_minor": 0
}
