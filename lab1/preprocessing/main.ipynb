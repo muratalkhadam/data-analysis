{
 "cells": [
  {
   "cell_type": "markdown",
   "source": [
    "# Data cleaning"
   ],
   "metadata": {
    "collapsed": false
   }
  },
  {
   "cell_type": "code",
   "execution_count": 9,
   "outputs": [],
   "source": [
    "import pandas as pd\n",
    "\n",
    "human_resources = pd.read_csv(\"../datasets/initial/Human Resources.csv\")\n",
    "facilities = pd.read_csv(\"../datasets/initial/Facilities.csv\")\n",
    "suicide_rates = pd.read_csv(\"../datasets/initial/Crude suicide rates.csv\")\n",
    "suicide_by_age = pd.read_csv(\"../datasets/initial/Age-standardized suicide rates.csv\")"
   ],
   "metadata": {
    "collapsed": false
   }
  },
  {
   "cell_type": "code",
   "execution_count": 25,
   "outputs": [
    {
     "data": {
      "text/plain": "array(['Both sexes', 'Male', 'Female'], dtype=object)"
     },
     "execution_count": 25,
     "metadata": {},
     "output_type": "execute_result"
    }
   ],
   "source": [
    "suicide_by_age['Sex'].unique()"
   ],
   "metadata": {
    "collapsed": false
   }
  },
  {
   "cell_type": "code",
   "execution_count": 11,
   "outputs": [
    {
     "data": {
      "text/plain": "array(['Both sexes', 'Male', 'Female'], dtype=object)"
     },
     "execution_count": 11,
     "metadata": {},
     "output_type": "execute_result"
    }
   ],
   "source": [
    "suicide_by_age.replace([' Both sexes', ' Male', ' Female'], ['Both sexes', 'Male', 'Female'], inplace=True)\n",
    "suicide_rates.replace([' Both sexes', ' Male', ' Female'], ['Both sexes', 'Male', 'Female'], inplace=True)\n",
    "suicide_by_age['Sex'].unique()"
   ],
   "metadata": {
    "collapsed": false
   }
  },
  {
   "cell_type": "code",
   "execution_count": 26,
   "outputs": [
    {
     "data": {
      "text/plain": "0              Afghanistan\n1                  Albania\n2                   Angola\n3      Antigua and Barbuda\n4                Argentina\n              ...         \n102             Uzbekistan\n103                Vanuatu\n104                  Yemen\n105                 Zambia\n106               Zimbabwe\nName: Country, Length: 107, dtype: object"
     },
     "execution_count": 26,
     "metadata": {},
     "output_type": "execute_result"
    }
   ],
   "source": [
    "human_resources[\"Country\"]"
   ],
   "metadata": {
    "collapsed": false
   }
  },
  {
   "cell_type": "code",
   "execution_count": 13,
   "outputs": [],
   "source": [
    "human_resources.replace(['Bolivia (Plurinational State of)'], ['Bolivia'], inplace=True)\n",
    "facilities.replace(['Bolivia (Plurinational State of)'], ['Bolivia'], inplace=True)\n",
    "suicide_rates.replace(['Bolivia (Plurinational State of)'], ['Bolivia'], inplace=True)\n",
    "suicide_by_age.replace(['Bolivia (Plurinational State of)'], ['Bolivia'], inplace=True)"
   ],
   "metadata": {
    "collapsed": false
   }
  },
  {
   "cell_type": "code",
   "execution_count": 14,
   "outputs": [
    {
     "data": {
      "text/plain": "0              Afghanistan\n1                  Albania\n2                   Angola\n3      Antigua and Barbuda\n4                Argentina\n              ...         \n102             Uzbekistan\n103                Vanuatu\n104                  Yemen\n105                 Zambia\n106               Zimbabwe\nName: Country, Length: 107, dtype: object"
     },
     "execution_count": 14,
     "metadata": {},
     "output_type": "execute_result"
    }
   ],
   "source": [
    "human_resources[\"Country\"]"
   ],
   "metadata": {
    "collapsed": false
   }
  },
  {
   "cell_type": "code",
   "execution_count": 30,
   "outputs": [
    {
     "data": {
      "text/plain": "Index(['Country', 'Year', 'Mental_hospitals', 'health_units',\n       'outpatient_facilities', 'day_treatment', 'residential_facilities'],\n      dtype='object')"
     },
     "execution_count": 30,
     "metadata": {},
     "output_type": "execute_result"
    }
   ],
   "source": [
    "facilities.columns"
   ],
   "metadata": {
    "collapsed": false
   }
  },
  {
   "cell_type": "code",
   "execution_count": 16,
   "outputs": [
    {
     "data": {
      "text/plain": "Index(['Country', 'Year', 'Mental_hospitals', 'health_units',\n       'outpatient_facilities', 'day_treatment', 'residential_facilities'],\n      dtype='object')"
     },
     "execution_count": 16,
     "metadata": {},
     "output_type": "execute_result"
    }
   ],
   "source": [
    "facilities.rename(columns={'Mental _hospitals': 'Mental_hospitals',\n",
    "                           'outpatient _facilities': 'outpatient_facilities',\n",
    "                           'day _treatment': 'day_treatment'}, inplace=True)\n",
    "facilities.columns"
   ],
   "metadata": {
    "collapsed": false
   }
  },
  {
   "cell_type": "markdown",
   "source": [
    "# Exporting dataframe to CSVs"
   ],
   "metadata": {
    "collapsed": false
   }
  },
  {
   "cell_type": "code",
   "execution_count": 17,
   "outputs": [],
   "source": [
    "human_resources.to_csv('../datasets/after-processing/Human Resources.csv', index=True)\n",
    "facilities.to_csv('../datasets/after-processing/Facilities.csv', index=True)\n",
    "suicide_rates.to_csv('../datasets/after-processing/Crude suicide rates.csv', index=True)\n",
    "suicide_by_age.to_csv('../datasets/after-processing/Age-standardized suicide rates.csv', index=True)"
   ],
   "metadata": {
    "collapsed": false
   }
  },
  {
   "cell_type": "code",
   "execution_count": 22,
   "outputs": [],
   "source": [
    "suicide_by_age.to_csv('../datasets/after-processing/Age-standardized suicide rates.csv', index=True)"
   ],
   "metadata": {
    "collapsed": false
   }
  },
  {
   "cell_type": "code",
   "execution_count": 32,
   "outputs": [
    {
     "data": {
      "text/plain": "      Country         Sex  2016  2015  2010  2000\n539  Viet Nam      Female   3.4   3.5   3.5   3.9\n540     Yemen  Both sexes   9.8   9.9  10.6   9.1\n541     Yemen        Male  13.4  13.6  14.6  12.8\n542     Yemen      Female   6.2   6.3   6.6   5.5\n543    Zambia  Both sexes  11.3  11.2  11.5  14.1\n544    Zambia        Male  17.5  17.4  17.9  21.9\n545    Zambia      Female   6.2   6.1   6.2   7.5\n546  Zimbabwe  Both sexes  19.1  18.9  20.6  21.7\n547  Zimbabwe        Male  29.1  28.7  32.3  35.5\n548  Zimbabwe      Female  11.1  11.1  11.1   9.8",
      "text/html": "<div>\n<style scoped>\n    .dataframe tbody tr th:only-of-type {\n        vertical-align: middle;\n    }\n\n    .dataframe tbody tr th {\n        vertical-align: top;\n    }\n\n    .dataframe thead th {\n        text-align: right;\n    }\n</style>\n<table border=\"1\" class=\"dataframe\">\n  <thead>\n    <tr style=\"text-align: right;\">\n      <th></th>\n      <th>Country</th>\n      <th>Sex</th>\n      <th>2016</th>\n      <th>2015</th>\n      <th>2010</th>\n      <th>2000</th>\n    </tr>\n  </thead>\n  <tbody>\n    <tr>\n      <th>539</th>\n      <td>Viet Nam</td>\n      <td>Female</td>\n      <td>3.4</td>\n      <td>3.5</td>\n      <td>3.5</td>\n      <td>3.9</td>\n    </tr>\n    <tr>\n      <th>540</th>\n      <td>Yemen</td>\n      <td>Both sexes</td>\n      <td>9.8</td>\n      <td>9.9</td>\n      <td>10.6</td>\n      <td>9.1</td>\n    </tr>\n    <tr>\n      <th>541</th>\n      <td>Yemen</td>\n      <td>Male</td>\n      <td>13.4</td>\n      <td>13.6</td>\n      <td>14.6</td>\n      <td>12.8</td>\n    </tr>\n    <tr>\n      <th>542</th>\n      <td>Yemen</td>\n      <td>Female</td>\n      <td>6.2</td>\n      <td>6.3</td>\n      <td>6.6</td>\n      <td>5.5</td>\n    </tr>\n    <tr>\n      <th>543</th>\n      <td>Zambia</td>\n      <td>Both sexes</td>\n      <td>11.3</td>\n      <td>11.2</td>\n      <td>11.5</td>\n      <td>14.1</td>\n    </tr>\n    <tr>\n      <th>544</th>\n      <td>Zambia</td>\n      <td>Male</td>\n      <td>17.5</td>\n      <td>17.4</td>\n      <td>17.9</td>\n      <td>21.9</td>\n    </tr>\n    <tr>\n      <th>545</th>\n      <td>Zambia</td>\n      <td>Female</td>\n      <td>6.2</td>\n      <td>6.1</td>\n      <td>6.2</td>\n      <td>7.5</td>\n    </tr>\n    <tr>\n      <th>546</th>\n      <td>Zimbabwe</td>\n      <td>Both sexes</td>\n      <td>19.1</td>\n      <td>18.9</td>\n      <td>20.6</td>\n      <td>21.7</td>\n    </tr>\n    <tr>\n      <th>547</th>\n      <td>Zimbabwe</td>\n      <td>Male</td>\n      <td>29.1</td>\n      <td>28.7</td>\n      <td>32.3</td>\n      <td>35.5</td>\n    </tr>\n    <tr>\n      <th>548</th>\n      <td>Zimbabwe</td>\n      <td>Female</td>\n      <td>11.1</td>\n      <td>11.1</td>\n      <td>11.1</td>\n      <td>9.8</td>\n    </tr>\n  </tbody>\n</table>\n</div>"
     },
     "execution_count": 32,
     "metadata": {},
     "output_type": "execute_result"
    }
   ],
   "source": [
    "suicide_by_age"
   ],
   "metadata": {
    "collapsed": false
   }
  },
  {
   "cell_type": "code",
   "execution_count": null,
   "outputs": [],
   "source": [],
   "metadata": {
    "collapsed": false
   }
  }
 ],
 "metadata": {
  "kernelspec": {
   "display_name": "Python 3",
   "language": "python",
   "name": "python3"
  },
  "language_info": {
   "codemirror_mode": {
    "name": "ipython",
    "version": 2
   },
   "file_extension": ".py",
   "mimetype": "text/x-python",
   "name": "python",
   "nbconvert_exporter": "python",
   "pygments_lexer": "ipython2",
   "version": "2.7.6"
  }
 },
 "nbformat": 4,
 "nbformat_minor": 0
}
