{
 "cells": [
  {
   "cell_type": "markdown",
   "source": [
    "# Data cleaning"
   ],
   "metadata": {
    "collapsed": false
   }
  },
  {
   "cell_type": "code",
   "execution_count": 11,
   "outputs": [],
   "source": [
    "import pandas as pd\n",
    "\n",
    "human_resources = pd.read_csv(\"../datasets/initial/Human Resources.csv\")\n",
    "facilities = pd.read_csv(\"../datasets/initial/Facilities.csv\")\n",
    "suicide_rates = pd.read_csv(\"../datasets/initial/Crude suicide rates.csv\")\n",
    "suicide_by_age = pd.read_csv(\"../datasets/initial/Age-standardized suicide rates.csv\")"
   ],
   "metadata": {
    "collapsed": false
   }
  },
  {
   "cell_type": "code",
   "execution_count": 12,
   "outputs": [
    {
     "data": {
      "text/plain": "array([' Both sexes', ' Male', ' Female'], dtype=object)"
     },
     "execution_count": 12,
     "metadata": {},
     "output_type": "execute_result"
    }
   ],
   "source": [
    "suicide_by_age['Sex'].unique()"
   ],
   "metadata": {
    "collapsed": false
   }
  },
  {
   "cell_type": "code",
   "execution_count": 13,
   "outputs": [
    {
     "data": {
      "text/plain": "array(['Both sexes', 'Male', 'Female'], dtype=object)"
     },
     "execution_count": 13,
     "metadata": {},
     "output_type": "execute_result"
    }
   ],
   "source": [
    "suicide_by_age.replace([' Both sexes', ' Male', ' Female'], ['Both sexes', 'Male', 'Female'], inplace=True)\n",
    "suicide_rates.replace([' Both sexes', ' Male', ' Female'], ['Both sexes', 'Male', 'Female'], inplace=True)\n",
    "suicide_by_age['Sex'].unique()"
   ],
   "metadata": {
    "collapsed": false
   }
  },
  {
   "cell_type": "code",
   "execution_count": 14,
   "outputs": [
    {
     "data": {
      "text/plain": "0              Afghanistan\n1                  Albania\n2                   Angola\n3      Antigua and Barbuda\n4                Argentina\n              ...         \n102             Uzbekistan\n103                Vanuatu\n104                  Yemen\n105                 Zambia\n106               Zimbabwe\nName: Country, Length: 107, dtype: object"
     },
     "execution_count": 14,
     "metadata": {},
     "output_type": "execute_result"
    }
   ],
   "source": [
    "human_resources[\"Country\"]"
   ],
   "metadata": {
    "collapsed": false
   }
  },
  {
   "cell_type": "code",
   "execution_count": 15,
   "outputs": [],
   "source": [
    "human_resources.replace(['Bolivia (Plurinational State of)'], ['Bolivia'], inplace=True)\n",
    "facilities.replace(['Bolivia (Plurinational State of)'], ['Bolivia'], inplace=True)\n",
    "suicide_rates.replace(['Bolivia (Plurinational State of)'], ['Bolivia'], inplace=True)\n",
    "suicide_by_age.replace(['Bolivia (Plurinational State of)'], ['Bolivia'], inplace=True)"
   ],
   "metadata": {
    "collapsed": false
   }
  },
  {
   "cell_type": "code",
   "execution_count": 16,
   "outputs": [
    {
     "data": {
      "text/plain": "0              Afghanistan\n1                  Albania\n2                   Angola\n3      Antigua and Barbuda\n4                Argentina\n              ...         \n102             Uzbekistan\n103                Vanuatu\n104                  Yemen\n105                 Zambia\n106               Zimbabwe\nName: Country, Length: 107, dtype: object"
     },
     "execution_count": 16,
     "metadata": {},
     "output_type": "execute_result"
    }
   ],
   "source": [
    "human_resources[\"Country\"]"
   ],
   "metadata": {
    "collapsed": false
   }
  },
  {
   "cell_type": "code",
   "execution_count": 17,
   "outputs": [
    {
     "data": {
      "text/plain": "Index(['Country', 'Year', 'Mental _hospitals', 'health_units',\n       'outpatient _facilities', 'day _treatment', 'residential_facilities'],\n      dtype='object')"
     },
     "execution_count": 17,
     "metadata": {},
     "output_type": "execute_result"
    }
   ],
   "source": [
    "facilities.columns"
   ],
   "metadata": {
    "collapsed": false
   }
  },
  {
   "cell_type": "code",
   "execution_count": 18,
   "outputs": [
    {
     "data": {
      "text/plain": "Index(['Country', 'Year', 'Mental_hospitals', 'health_units',\n       'outpatient_facilities', 'day_treatment', 'residential_facilities'],\n      dtype='object')"
     },
     "execution_count": 18,
     "metadata": {},
     "output_type": "execute_result"
    }
   ],
   "source": [
    "facilities.rename(columns={'Mental _hospitals': 'Mental_hospitals',\n",
    "                           'outpatient _facilities': 'outpatient_facilities',\n",
    "                           'day _treatment': 'day_treatment'}, inplace=True)\n",
    "facilities.columns"
   ],
   "metadata": {
    "collapsed": false
   }
  },
  {
   "cell_type": "markdown",
   "source": [
    "# Exporting dataframe to CSVs"
   ],
   "metadata": {
    "collapsed": false
   }
  },
  {
   "cell_type": "code",
   "execution_count": 21,
   "outputs": [],
   "source": [
    "human_resources.to_csv('../datasets/after-processing/Human Resources.csv', index=False)\n",
    "facilities.to_csv('../datasets/after-processing/Facilities.csv', index=False)\n",
    "suicide_rates.to_csv('../datasets/after-processing/Crude suicide rates.csv', index=False)\n",
    "suicide_by_age.to_csv('../datasets/after-processing/Age-standardized suicide rates.csv', index=False)"
   ],
   "metadata": {
    "collapsed": false
   }
  },
  {
   "cell_type": "code",
   "execution_count": 23,
   "outputs": [
    {
     "data": {
      "text/plain": "         Country         Sex  2016  2015  2010  2000\n0    Afghanistan  Both sexes   6.4   6.6   7.4   8.1\n1    Afghanistan        Male  10.6  10.9  12.5  14.3\n2    Afghanistan      Female   2.1   2.1   2.1   1.7\n3        Albania  Both sexes   5.6   5.3   7.7   5.8\n4        Albania        Male   7.0   6.7   9.5   8.2\n..           ...         ...   ...   ...   ...   ...\n544       Zambia        Male  17.5  17.4  17.9  21.9\n545       Zambia      Female   6.2   6.1   6.2   7.5\n546     Zimbabwe  Both sexes  19.1  18.9  20.6  21.7\n547     Zimbabwe        Male  29.1  28.7  32.3  35.5\n548     Zimbabwe      Female  11.1  11.1  11.1   9.8\n\n[549 rows x 6 columns]",
      "text/html": "<div>\n<style scoped>\n    .dataframe tbody tr th:only-of-type {\n        vertical-align: middle;\n    }\n\n    .dataframe tbody tr th {\n        vertical-align: top;\n    }\n\n    .dataframe thead th {\n        text-align: right;\n    }\n</style>\n<table border=\"1\" class=\"dataframe\">\n  <thead>\n    <tr style=\"text-align: right;\">\n      <th></th>\n      <th>Country</th>\n      <th>Sex</th>\n      <th>2016</th>\n      <th>2015</th>\n      <th>2010</th>\n      <th>2000</th>\n    </tr>\n  </thead>\n  <tbody>\n    <tr>\n      <th>0</th>\n      <td>Afghanistan</td>\n      <td>Both sexes</td>\n      <td>6.4</td>\n      <td>6.6</td>\n      <td>7.4</td>\n      <td>8.1</td>\n    </tr>\n    <tr>\n      <th>1</th>\n      <td>Afghanistan</td>\n      <td>Male</td>\n      <td>10.6</td>\n      <td>10.9</td>\n      <td>12.5</td>\n      <td>14.3</td>\n    </tr>\n    <tr>\n      <th>2</th>\n      <td>Afghanistan</td>\n      <td>Female</td>\n      <td>2.1</td>\n      <td>2.1</td>\n      <td>2.1</td>\n      <td>1.7</td>\n    </tr>\n    <tr>\n      <th>3</th>\n      <td>Albania</td>\n      <td>Both sexes</td>\n      <td>5.6</td>\n      <td>5.3</td>\n      <td>7.7</td>\n      <td>5.8</td>\n    </tr>\n    <tr>\n      <th>4</th>\n      <td>Albania</td>\n      <td>Male</td>\n      <td>7.0</td>\n      <td>6.7</td>\n      <td>9.5</td>\n      <td>8.2</td>\n    </tr>\n    <tr>\n      <th>...</th>\n      <td>...</td>\n      <td>...</td>\n      <td>...</td>\n      <td>...</td>\n      <td>...</td>\n      <td>...</td>\n    </tr>\n    <tr>\n      <th>544</th>\n      <td>Zambia</td>\n      <td>Male</td>\n      <td>17.5</td>\n      <td>17.4</td>\n      <td>17.9</td>\n      <td>21.9</td>\n    </tr>\n    <tr>\n      <th>545</th>\n      <td>Zambia</td>\n      <td>Female</td>\n      <td>6.2</td>\n      <td>6.1</td>\n      <td>6.2</td>\n      <td>7.5</td>\n    </tr>\n    <tr>\n      <th>546</th>\n      <td>Zimbabwe</td>\n      <td>Both sexes</td>\n      <td>19.1</td>\n      <td>18.9</td>\n      <td>20.6</td>\n      <td>21.7</td>\n    </tr>\n    <tr>\n      <th>547</th>\n      <td>Zimbabwe</td>\n      <td>Male</td>\n      <td>29.1</td>\n      <td>28.7</td>\n      <td>32.3</td>\n      <td>35.5</td>\n    </tr>\n    <tr>\n      <th>548</th>\n      <td>Zimbabwe</td>\n      <td>Female</td>\n      <td>11.1</td>\n      <td>11.1</td>\n      <td>11.1</td>\n      <td>9.8</td>\n    </tr>\n  </tbody>\n</table>\n<p>549 rows × 6 columns</p>\n</div>"
     },
     "execution_count": 23,
     "metadata": {},
     "output_type": "execute_result"
    }
   ],
   "source": [
    "suicide_r"
   ],
   "metadata": {
    "collapsed": false
   }
  },
  {
   "cell_type": "code",
   "execution_count": null,
   "outputs": [],
   "source": [],
   "metadata": {
    "collapsed": false
   }
  }
 ],
 "metadata": {
  "kernelspec": {
   "display_name": "Python 3",
   "language": "python",
   "name": "python3"
  },
  "language_info": {
   "codemirror_mode": {
    "name": "ipython",
    "version": 2
   },
   "file_extension": ".py",
   "mimetype": "text/x-python",
   "name": "python",
   "nbconvert_exporter": "python",
   "pygments_lexer": "ipython2",
   "version": "2.7.6"
  }
 },
 "nbformat": 4,
 "nbformat_minor": 0
}
